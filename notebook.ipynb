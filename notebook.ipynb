{
 "cells": [
  {
   "cell_type": "markdown",
   "id": "7ba56e78",
   "metadata": {},
   "source": [
    "## Setup"
   ]
  },
  {
   "cell_type": "markdown",
   "id": "788706db",
   "metadata": {},
   "source": [
    "### 1. Install Docker Desktop"
   ]
  },
  {
   "cell_type": "markdown",
   "id": "981c9759",
   "metadata": {},
   "source": [
    "### 2. Create Docker Compose File"
   ]
  },
  {
   "cell_type": "markdown",
   "id": "7f4f6863",
   "metadata": {},
   "source": [
    "- docker compose up -d\n",
    "- docker exec -it kafka bash\n",
    "- kafka-topics.sh --create --topic coinbase_ticker --bootstrap-server localhost:9092 --replication-factor 1 --partitions 1"
   ]
  },
  {
   "cell_type": "markdown",
   "id": "95bc2de6",
   "metadata": {},
   "source": [
    "### Cleanup\n",
    "1. Stop and delete all containers:\n",
    "- docker stop $(docker ps -aq)\n",
    "- docker rm $(docker ps -aq)\n",
    "2. Delete volumes\n",
    "- docker volume prune -f\n",
    "3. Delete old images\n",
    "- docker image prune -a -f\n",
    "\n",
    "*NUKE: docker system prune -a --volumes -f*"
   ]
  },
  {
   "cell_type": "markdown",
   "id": "d23ba724",
   "metadata": {},
   "source": [
    "## Kafka\n",
    "\n",
    "### 1. Topic\n",
    "- A topic in Kafka is like a channel or feed where data is published and consumed.\n",
    "- Think of it like a named stream — producers write messages to it, and consumers read from it.\n",
    "- Topics can be created using the akhq UI or inside a container with: \n",
    "\n",
    "```bash\n",
    "kafka-topics.sh --create \\\n",
    "  --topic coinbase_ticker \\\n",
    "  --bootstrap-server localhost:9092 \\\n",
    "  --partitions 1 \\\n",
    "  --replication-factor 1\n",
    "```\n",
    "\n",
    "\n",
    "| Feature             | Description |\n",
    "|---------------------|-------------|\n",
    "| **Named**           | Topics are identified by a name (e.g. `coinbase_ticker`) |\n",
    "| **Append-only log** | Messages are added to the end of the topic — they’re never overwritten |\n",
    "| **Durable**         | Kafka stores topic data on disk, and it can survive restarts |\n",
    "| **Multi-producer/consumer** | Many producers can write, and many consumers can read from a topic at once |\n",
    "| **Partitioned**     | Topics can be split across partitions for scalability |\n",
    "\n"
   ]
  },
  {
   "cell_type": "markdown",
   "id": "62675f5b",
   "metadata": {},
   "source": []
  }
 ],
 "metadata": {
  "language_info": {
   "name": "python"
  }
 },
 "nbformat": 4,
 "nbformat_minor": 5
}
